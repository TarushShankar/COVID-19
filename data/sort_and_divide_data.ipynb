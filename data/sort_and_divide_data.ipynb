{
 "cells": [
  {
   "cell_type": "code",
   "execution_count": null,
   "metadata": {},
   "outputs": [
    {
     "ename": "",
     "evalue": "",
     "output_type": "error",
     "traceback": [
      "\u001b[1;31mRunning cells with 'Python 3.12.4' requires the ipykernel package.\n",
      "\u001b[1;31mRun the following command to install 'ipykernel' into the Python environment. \n",
      "\u001b[1;31mCommand: '/opt/homebrew/bin/python3 -m pip install ipykernel -U --user --force-reinstall'"
     ]
    }
   ],
   "source": [
    "import csv\n",
    "import os\n",
    "from datetime import datetime\n",
    "\n",
    "#output directory\n",
    "output_dir = './sorted_data'\n",
    "os.makedirs(output_dir, exist_ok=True)\n",
    "\n",
    "#filter, write data for every continent, month, year\n",
    "def sort_generate(continent, month, year, rows, header):\n",
    "    month_name = datetime(year, month, 1).strftime('%B')\n",
    "    filename = f'{output_dir}/OWID_{continent}_{month_name}_{year}.csv'\n",
    "    with open(filename, mode='w', newline='') as file:\n",
    "        writer = csv.writer(file)\n",
    "        writer.writerow(header)\n",
    "        writer.writerows(rows)\n",
    "    print(f'{filename} created successfully.')\n",
    "\n",
    "#read master csv file\n",
    "with open('./OWID Dataset/owid-covid-data-master-file.csv', mode='r') as master_dataset:\n",
    "    owid_data = csv.reader(master_dataset)\n",
    "    #temporarily get, store header row\n",
    "    header = next(owid_data)\n",
    "    \n",
    "    #get index of relevant columns(\"continent\" for continent AND \"date\" for timeframe)\n",
    "    continent_idx = header.index('continent')\n",
    "    date_idx = header.index('date')\n",
    "    \n",
    "    #initialize dictionaries to store rows for each continent, year, and month\n",
    "    data = {continent: {year: {month: [] for month in range(1, 13)} for year in range(2020, 2025)} for continent in ['Africa', 'Asia', 'Europe', 'North America', 'Oceania', 'South America']}\n",
    "    \n",
    "    #process each row in csv file\n",
    "    for row in owid_data:\n",
    "        continent = row[continent_idx]\n",
    "        date_str = row[date_idx]\n",
    "        year_month_day_string = datetime.strptime(date_str, '%Y-%m-%d')\n",
    "        year = year_month_day_string.year\n",
    "        month = year_month_day_string.month\n",
    "\n",
    "        if ((continent in data) and (year in data[continent]) and (month in data[continent][year])):\n",
    "            (data[continent][year][month]).append(row)\n",
    "\n",
    "    #write filtered data to new csv files\n",
    "    for continent, years in data.items():\n",
    "        for year, months in years.items():\n",
    "            for month, rows in months.items():\n",
    "                if rows:\n",
    "                    sort_generate(continent, month, year, rows, header)\n",
    "\n"
   ]
  }
 ],
 "metadata": {
  "kernelspec": {
   "display_name": "Python 3",
   "language": "python",
   "name": "python3"
  },
  "language_info": {
   "name": "python",
   "version": "3.12.4"
  }
 },
 "nbformat": 4,
 "nbformat_minor": 2
}
